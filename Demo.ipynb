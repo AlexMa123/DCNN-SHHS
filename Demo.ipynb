{
  "cells": [
    {
      "cell_type": "markdown",
      "metadata": {
        "id": "view-in-github",
        "colab_type": "text"
      },
      "source": [
        "<a href=\"https://colab.research.google.com/github/AlexMa123/DCNN-SHHS/blob/main/Demo.ipynb\" target=\"_parent\"><img src=\"https://colab.research.google.com/assets/colab-badge.svg\" alt=\"Open In Colab\"/></a>"
      ]
    },
    {
      "cell_type": "markdown",
      "source": [
        "# Automatic sleep-stage classification of heart rate and actigraphy data using deep and transfer learning approaches\n",
        "\n",
        "This notebook serves as a guide to train the neural network that has been presented in the research article titled **\"Automatic sleep-stage classification of heart rate and actigraphy data using deep and transfer learning approaches\"** using the SHHS dataset."
      ],
      "metadata": {
        "id": "iqJnzkgd-u0d"
      }
    },
    {
      "cell_type": "code",
      "source": [
        "# !unzip DCNN-SHHS\n",
        "!pip install git+https://github.com/AlexMa123/DCNN-SHHS"
      ],
      "metadata": {
        "id": "Ks8tBeepg6Q9",
        "outputId": "42b2d898-a87f-40da-9a4c-59c0d6c0fbfe",
        "colab": {
          "base_uri": "https://localhost:8080/"
        }
      },
      "execution_count": 2,
      "outputs": [
        {
          "output_type": "stream",
          "name": "stdout",
          "text": [
            "Looking in indexes: https://pypi.org/simple, https://us-python.pkg.dev/colab-wheels/public/simple/\n",
            "Collecting git+https://github.com/AlexMa123/DCNN-SHHS\n",
            "  Cloning https://github.com/AlexMa123/DCNN-SHHS to /tmp/pip-req-build-t67wrwb5\n",
            "  Running command git clone --filter=blob:none --quiet https://github.com/AlexMa123/DCNN-SHHS /tmp/pip-req-build-t67wrwb5\n",
            "  Resolved https://github.com/AlexMa123/DCNN-SHHS to commit de1c02d802afdd2335ef12668e8deaebf9e5efa3\n",
            "  Preparing metadata (setup.py) ... \u001b[?25l\u001b[?25hdone\n",
            "Requirement already satisfied: numpy in /usr/local/lib/python3.10/dist-packages (from DCNN-SHHS==0.1.2) (1.22.4)\n",
            "Requirement already satisfied: h5py in /usr/local/lib/python3.10/dist-packages (from DCNN-SHHS==0.1.2) (3.8.0)\n",
            "Building wheels for collected packages: DCNN-SHHS\n",
            "  Building wheel for DCNN-SHHS (setup.py) ... \u001b[?25l\u001b[?25hdone\n",
            "  Created wheel for DCNN-SHHS: filename=DCNN_SHHS-0.1.2-py3-none-any.whl size=4800 sha256=32ab87e8578219dd48e0d29a603a0976cd8a789dd30ee392196e0d2ef7deda76\n",
            "  Stored in directory: /tmp/pip-ephem-wheel-cache-ovfvo_ic/wheels/e0/0c/d7/f26ec033d1df891f1e40d74f261152980303213e26e863ad33\n",
            "Successfully built DCNN-SHHS\n",
            "Installing collected packages: DCNN-SHHS\n",
            "Successfully installed DCNN-SHHS-0.1.2\n"
          ]
        }
      ]
    },
    {
      "cell_type": "code",
      "source": [
        "# import packages\n",
        "import h5py\n",
        "import matplotlib.pyplot as plt\n",
        "import numpy as np\n",
        "import torch\n",
        "from DCNN_SHHS import DCNN_classifier, SleepDataset\n",
        "from sklearn.model_selection import train_test_split\n",
        "from tqdm import tqdm\n",
        "from torch import nn, optim\n",
        "\n",
        "device = torch.device(\n",
        "    'cuda' if torch.cuda.is_available() else 'cpu'\n",
        ")"
      ],
      "metadata": {
        "id": "1OcDjfh0DgC8"
      },
      "execution_count": 16,
      "outputs": []
    },
    {
      "cell_type": "markdown",
      "source": [
        "## SHHS Dataset\n",
        "\n",
        "The [Sleep Heart Health Study (SHHS)](https://sleepdata.org/datasets/shhs) is a multi-center cohort study implemented by the National Heart Lung & Blood Institute to determine the cardiovascular and other consequences of sleep-disordered breathing. \n",
        "\n",
        "### Download Dataset"
      ],
      "metadata": {
        "id": "-ME64Hp3_CnR"
      }
    },
    {
      "cell_type": "code",
      "source": [
        "!wget \"https://onedrive.live.com/download?cid=45D5A10F94E33861&resid=45D5A10F94E33861%21248707&authkey=AKRa5kb3XFj4G-o\" -O shhs_dataset.h5"
      ],
      "metadata": {
        "colab": {
          "base_uri": "https://localhost:8080/"
        },
        "id": "GuPxfw8D-6DM",
        "outputId": "0f27cfe7-46f3-4e52-855d-b3c62dcf9429"
      },
      "execution_count": 4,
      "outputs": [
        {
          "output_type": "stream",
          "name": "stdout",
          "text": [
            "--2023-06-03 19:28:01--  https://onedrive.live.com/download?cid=45D5A10F94E33861&resid=45D5A10F94E33861%21248707&authkey=AKRa5kb3XFj4G-o\n",
            "Resolving onedrive.live.com (onedrive.live.com)... 13.107.42.13\n",
            "Connecting to onedrive.live.com (onedrive.live.com)|13.107.42.13|:443... connected.\n",
            "HTTP request sent, awaiting response... 302 Found\n",
            "Location: https://m10oca.db.files.1drv.com/y4mBCq7CxOJJvnlhg2mN8RF7wRZs5KrjeoBC95KIWzGNSz_upuGQ1aRWTPiTeFfScvLpdYEP0RghW_57_C4oaXlDWi09CO49alWOZTTNHm0NIssildwo8KRuBi0VtnTKAOXJd5rod84h0B0MigBuOoinltkp8UmXLfoVRrjrshLuj68sj-yJ-NnrGg2dVjJquPYHc-4anydLKfT7Gfw86FMzg/SHHS_dataset.h5?download&psid=1 [following]\n",
            "--2023-06-03 19:28:01--  https://m10oca.db.files.1drv.com/y4mBCq7CxOJJvnlhg2mN8RF7wRZs5KrjeoBC95KIWzGNSz_upuGQ1aRWTPiTeFfScvLpdYEP0RghW_57_C4oaXlDWi09CO49alWOZTTNHm0NIssildwo8KRuBi0VtnTKAOXJd5rod84h0B0MigBuOoinltkp8UmXLfoVRrjrshLuj68sj-yJ-NnrGg2dVjJquPYHc-4anydLKfT7Gfw86FMzg/SHHS_dataset.h5?download&psid=1\n",
            "Resolving m10oca.db.files.1drv.com (m10oca.db.files.1drv.com)... 13.107.42.12\n",
            "Connecting to m10oca.db.files.1drv.com (m10oca.db.files.1drv.com)|13.107.42.12|:443... connected.\n",
            "HTTP request sent, awaiting response... 200 OK\n",
            "Length: 4028500848 (3.8G) [application/octet-stream]\n",
            "Saving to: ‘shhs_dataset.h5’\n",
            "\n",
            "shhs_dataset.h5     100%[===================>]   3.75G  23.5MB/s    in 3m 7s   \n",
            "\n",
            "2023-06-03 19:31:09 (20.5 MB/s) - ‘shhs_dataset.h5’ saved [4028500848/4028500848]\n",
            "\n"
          ]
        }
      ]
    },
    {
      "cell_type": "markdown",
      "source": [
        "## Data structure\n",
        "\n",
        "The dataset created by us only save the 4 Hz RR interval and sleep stages.\n",
        "\n",
        "![RR interval](https://upload.wikimedia.org/wikipedia/commons/thumb/b/be/Heart_rate_variability_%28HRV%29.svg/1280px-Heart_rate_variability_%28HRV%29.svg.png)\n",
        "\n",
        "The sleep stages is saved as interger numbers:\n",
        "\n",
        "|number|stage|\n",
        "|------|-----|\n",
        "|  0   | Wake|\n",
        "|  1   | N1  |\n",
        "|  2   | N2  |\n",
        "|  3   | N3  |\n",
        "|  5   | REM |\n",
        "| other| artifact|\n",
        "\n"
      ],
      "metadata": {
        "id": "hIf50EPE_Y8l"
      }
    },
    {
      "cell_type": "code",
      "source": [
        "shhs_dataset = h5py.File(\"./shhs_dataset.h5\", 'r')\n",
        "\n",
        "# where the rris are saved\n",
        "shhs_dataset['rri']\n",
        "# where the sleep stages are saved\n",
        "shhs_dataset['slp']\n",
        "\n",
        "# The patients' id\n",
        "patients = list(shhs_dataset['rri'].keys())\n",
        "print(patients[:10])"
      ],
      "metadata": {
        "colab": {
          "base_uri": "https://localhost:8080/"
        },
        "id": "M-f7nvMC-76N",
        "outputId": "067572ee-c238-43f4-d23a-a0514c3c1fe2"
      },
      "execution_count": 5,
      "outputs": [
        {
          "output_type": "stream",
          "name": "stdout",
          "text": [
            "['200001_1', '200002_1', '200003_1', '200004_1', '200005_1', '200006_1', '200007_1', '200008_1', '200009_1', '200010_1']\n"
          ]
        }
      ]
    },
    {
      "cell_type": "markdown",
      "source": [
        "To load the patient 200080's rri and sleep stage, one should use "
      ],
      "metadata": {
        "id": "CkuDeQU4CuQY"
      }
    },
    {
      "cell_type": "code",
      "source": [
        "freq_rri = shhs_dataset['rri'].attrs['freq']\n",
        "print(f\"The frequency of RR interval is {freq_rri} Hz\")"
      ],
      "metadata": {
        "colab": {
          "base_uri": "https://localhost:8080/"
        },
        "id": "KZpqzyC4FW1h",
        "outputId": "3d9d8705-4ac3-4627-ff28-73754d42de66"
      },
      "execution_count": 6,
      "outputs": [
        {
          "output_type": "stream",
          "name": "stdout",
          "text": [
            "The frequency of RR interval is 4 Hz\n"
          ]
        }
      ]
    },
    {
      "cell_type": "code",
      "source": [
        "# 200080_1 means the first night recording from patient 200001\n",
        "rri_tmp = shhs_dataset['rri']['200080_1'][:] # rri_tmp is an array of data\n",
        "slp_tmp = shhs_dataset['slp']['200080_1'][:]"
      ],
      "metadata": {
        "id": "O1nZ262dCNym"
      },
      "execution_count": 7,
      "outputs": []
    },
    {
      "cell_type": "code",
      "source": [
        "num2stage = {\n",
        "    0: 'wake',\n",
        "    1: 'N1',\n",
        "    2: 'N2',\n",
        "    3: 'N3',\n",
        "    5: 'REM'\n",
        "}\n",
        "\n",
        "# plot the ith epoch\n",
        "i = 13\n",
        "plt.figure(figsize=(8, 4))\n",
        "plt.plot(np.arange(0, 30, 1 / 4), rri_tmp[i * 30 * 4: (i + 1) * 30 * 4])\n",
        "plt.title(f\"Sleep stages: {num2stage[slp_tmp[i]]}\")\n",
        "plt.xlabel(\"Time/s\")\n",
        "plt.ylabel(\"RRI/s\")"
      ],
      "metadata": {
        "colab": {
          "base_uri": "https://localhost:8080/",
          "height": 427
        },
        "id": "GJJyH3MiDmXs",
        "outputId": "03eb43a7-2794-4910-ffe2-154c01b8a03f"
      },
      "execution_count": 8,
      "outputs": [
        {
          "output_type": "execute_result",
          "data": {
            "text/plain": [
              "Text(0, 0.5, 'RRI/s')"
            ]
          },
          "metadata": {},
          "execution_count": 8
        },
        {
          "output_type": "display_data",
          "data": {
            "text/plain": [
              "<Figure size 800x400 with 1 Axes>"
            ],
            "image/png": "[encoded data removed]"
          },
          "metadata": {}
        }
      ]
    },
    {
      "cell_type": "markdown",
      "source": [
        "## Train test data split\n",
        "\n",
        "As we have access to a list of patient IDs, we can utilize the train_test_split function from the sklearn library to partition the dataset into training, validation, and test sets."
      ],
      "metadata": {
        "id": "8Hw1dAaenGcp"
      }
    },
    {
      "cell_type": "code",
      "source": [
        "train_pid, test_pid = train_test_split(patients, test_size=0.3, shuffle=True)\n",
        "validation_pid, test_pid = train_test_split(test_pid, test_size=0.5, shuffle=True)\n",
        "\n",
        "print(len(train_pid), len(test_pid), len(validation_pid))"
      ],
      "metadata": {
        "id": "Eo1SA2MlD6NI",
        "outputId": "ca5fb07a-a49c-48e7-e98a-8b1c01e04bc0",
        "colab": {
          "base_uri": "https://localhost:8080/"
        }
      },
      "execution_count": 9,
      "outputs": [
        {
          "output_type": "stream",
          "name": "stdout",
          "text": [
            "5803 1244 1244\n"
          ]
        }
      ]
    },
    {
      "cell_type": "code",
      "source": [
        "batchsize = 16\n",
        "\n",
        "train_dataset = SleepDataset(\n",
        "    shhs_dataset,  # The h5 dataset load by h5py\n",
        "    features=['rri'], target='slp',\n",
        "    remove_mean={'rri':False}, # whether to remove mean value from the signal or not\n",
        "    batchsize=batchsize,\n",
        "    pid=train_pid,\n",
        "    shuffle=True\n",
        ")\n",
        "\n",
        "validation_dataset = SleepDataset(\n",
        "    shhs_dataset, \n",
        "    features=['rri'], target='slp',\n",
        "    remove_mean={'rri':False},\n",
        "    batchsize=batchsize,\n",
        "    pid=validation_pid,\n",
        "    shuffle=True\n",
        ")\n",
        "\n",
        "test_dataset = SleepDataset(\n",
        "    shhs_dataset, \n",
        "    features=['rri'], target='slp',\n",
        "    remove_mean={'rri':False},\n",
        "    batchsize=batchsize,\n",
        "    pid=test_pid,\n",
        "    shuffle=True\n",
        ")"
      ],
      "metadata": {
        "id": "iTT5ogAEoLcw"
      },
      "execution_count": 11,
      "outputs": []
    },
    {
      "cell_type": "code",
      "source": [
        "for X, Y, _, _ in tqdm(train_dataset, total=int(len(train_pid) / batchsize)):\n",
        "    rri = X['rri']\n",
        "    slp = Y"
      ],
      "metadata": {
        "id": "psi8i5-fj1nt",
        "outputId": "22641b1e-b25e-4239-ff9a-e2e4dc1555c9",
        "colab": {
          "base_uri": "https://localhost:8080/"
        }
      },
      "execution_count": 12,
      "outputs": [
        {
          "output_type": "stream",
          "name": "stderr",
          "text": [
            "363it [00:31, 11.66it/s]                         \n"
          ]
        }
      ]
    },
    {
      "cell_type": "markdown",
      "source": [
        "## Define the neural network model"
      ],
      "metadata": {
        "id": "UzN4BX_0jDY-"
      }
    },
    {
      "cell_type": "code",
      "source": [
        "net = DCNN_classifier() # using the default model, which is the same as what wrote in the paper\n",
        "net = net.to(device)"
      ],
      "metadata": {
        "id": "0wGSKCTIjFxh"
      },
      "execution_count": 13,
      "outputs": []
    },
    {
      "cell_type": "code",
      "source": [
        "# The input of the network could be a rri or rri with ACT\n",
        "fake_rri = torch.rand(1, 1200, 512, device=device) \n",
        "# (batch_size, number of windows, number of samples in each window (128s))\n",
        "fake_mad = torch.rand(1, 1200, 128, device=device)\n",
        "\n",
        "print(net(fake_rri).shape)\n",
        "# or\n",
        "print(net(fake_rri, fake_mad).shape)"
      ],
      "metadata": {
        "id": "SkRtPDhOrgy_",
        "outputId": "de51e62e-5902-4ecd-d4d6-225ed4a1076f",
        "colab": {
          "base_uri": "https://localhost:8080/"
        }
      },
      "execution_count": 15,
      "outputs": [
        {
          "output_type": "stream",
          "name": "stdout",
          "text": [
            "torch.Size([1200, 4])\n",
            "torch.Size([1200, 4])\n"
          ]
        }
      ]
    },
    {
      "cell_type": "markdown",
      "source": [
        "## Network Training"
      ],
      "metadata": {
        "id": "cB-jlPjDv4gW"
      }
    },
    {
      "cell_type": "markdown",
      "source": [
        "### Learning rate\n",
        "The network is trained by Adam optimizer with a warm-up learning rate, and the learning rate increases from $2.5\\times 10^{-5}$ to $1\\times 10^{-4}$ during the first 10 epochs and then decreases to $5\\times 10^{-5}$ for the following 30 epochs."
      ],
      "metadata": {
        "id": "BDQrOh4mwC0P"
      }
    },
    {
      "cell_type": "code",
      "source": [
        "import math\n",
        "class CosineScheduler:\n",
        "    def __init__(self, max_update, base_lr=0.01, final_lr=0,\n",
        "               warmup_steps=0, warmup_begin_lr=0):\n",
        "        self.base_lr_orig = base_lr\n",
        "        self.max_update = max_update\n",
        "        self.final_lr = final_lr\n",
        "        self.warmup_steps = warmup_steps\n",
        "        self.warmup_begin_lr = warmup_begin_lr\n",
        "        self.max_steps = self.max_update - self.warmup_steps\n",
        "\n",
        "    def get_warmup_lr(self, epoch):\n",
        "        increase = (self.base_lr_orig - self.warmup_begin_lr) \\\n",
        "                       * float(epoch) / float(self.warmup_steps)\n",
        "        return self.warmup_begin_lr + increase\n",
        "\n",
        "    def __call__(self, epoch):\n",
        "        if epoch < self.warmup_steps:\n",
        "            return self.get_warmup_lr(epoch)\n",
        "        if epoch <= self.max_update:\n",
        "            self.base_lr = self.final_lr + (\n",
        "                self.base_lr_orig - self.final_lr) * (1 + math.cos(\n",
        "                math.pi * (epoch - self.warmup_steps) / self.max_steps)) / 2\n",
        "        return self.base_lr"
      ],
      "metadata": {
        "id": "7ZBykaX9jIqu"
      },
      "execution_count": 20,
      "outputs": []
    },
    {
      "cell_type": "code",
      "source": [
        "lr_scheduler = CosineScheduler(40, \n",
        "                               1 * 1e-4, 5 * 1e-5, \n",
        "                               warmup_steps=10, warmup_begin_lr=2.5 * 1e-5)\n",
        "epochs = np.arange(40)\n",
        "lrs = np.array([lr_scheduler(e) for e in epochs])\n",
        "plt.plot(epochs, lrs)\n",
        "plt.ylabel(\"Learning rate\")\n",
        "plt.gca().ticklabel_format(style='sci', scilimits=(-1, 2), axis='y')\n",
        "plt.xlabel(\"epoch\")"
      ],
      "metadata": {
        "id": "ogvSNVHLpo2V",
        "outputId": "da776306-8b4f-4ddc-9f5a-9def00dd69cd",
        "colab": {
          "base_uri": "https://localhost:8080/",
          "height": 482
        }
      },
      "execution_count": 21,
      "outputs": [
        {
          "output_type": "execute_result",
          "data": {
            "text/plain": [
              "Text(0.5, 0, 'epoch')"
            ]
          },
          "metadata": {},
          "execution_count": 21
        },
        {
          "output_type": "display_data",
          "data": {
            "text/plain": [
              "<Figure size 640x480 with 1 Axes>"
            ],
            "image/png": "[encoded data removed]"
          },
          "metadata": {}
        }
      ]
    },
    {
      "cell_type": "markdown",
      "source": [
        "### Optimizer and Loss function"
      ],
      "metadata": {
        "id": "Zxf9KyiswkWU"
      }
    },
    {
      "cell_type": "code",
      "source": [
        "opt = optim.Adam(net.parameters(), lr=0.000005)\n",
        "loss = nn.CrossEntropyLoss()\n",
        "loss_train = []\n",
        "loss_validation = []\n",
        "acc_train = []\n",
        "acc_validation = []\n",
        "\n",
        "import os\n",
        "if not os.path.isdir(\"./training_result\"):\n",
        "  os.mkdir(\"training_result\")"
      ],
      "metadata": {
        "id": "WarsowAeqPLY"
      },
      "execution_count": 17,
      "outputs": []
    },
    {
      "cell_type": "code",
      "source": [
        "for epoch in range(lr_scheduler.max_update):\n",
        "  train_dataset = SleepDataset(\n",
        "    shhs_dataset,  # The h5 dataset load by h5py\n",
        "    features=['rri'], target='slp',\n",
        "    remove_mean={'rri':False}, # whether to remove mean value from the signal or not\n",
        "    batchsize=batchsize,\n",
        "    pid=train_pid,\n",
        "    shuffle=True\n",
        "  )\n",
        "  net.train()\n",
        "  print(f\"Training epoch {epoch}\")\n",
        "  for X, Y, _, _ in tqdm(train_dataset, total=int(len(train_pid) / batchsize)):\n",
        "    rri = X['rri'].to(device)\n",
        "    slp = Y.to(device)\n",
        "    # Only keeps Wake, Light Sleep, Deep Sleep and REM sleep\n",
        "    slp[slp>=1] = slp[]"
      ],
      "metadata": {
        "id": "7MSXe0xCqU3e",
        "outputId": "51fad851-7ccd-496a-d7ea-1e53a0dcad41",
        "colab": {
          "base_uri": "https://localhost:8080/"
        }
      },
      "execution_count": 22,
      "outputs": [
        {
          "output_type": "stream",
          "name": "stdout",
          "text": [
            "0\n",
            "1\n",
            "2\n",
            "3\n",
            "4\n",
            "5\n",
            "6\n",
            "7\n",
            "8\n",
            "9\n",
            "10\n",
            "11\n",
            "12\n",
            "13\n",
            "14\n",
            "15\n",
            "16\n",
            "17\n",
            "18\n",
            "19\n",
            "20\n",
            "21\n",
            "22\n",
            "23\n",
            "24\n",
            "25\n",
            "26\n",
            "27\n",
            "28\n",
            "29\n",
            "30\n",
            "31\n",
            "32\n",
            "33\n",
            "34\n",
            "35\n",
            "36\n",
            "37\n",
            "38\n",
            "39\n"
          ]
        }
      ]
    },
    {
      "cell_type": "code",
      "source": [],
      "metadata": {
        "id": "6IJpZnKFxdRO"
      },
      "execution_count": null,
      "outputs": []
    }
  ],
  "metadata": {
    "language_info": {
      "name": "python"
    },
    "orig_nbformat": 4,
    "colab": {
      "provenance": [],
      "machine_shape": "hm",
      "gpuType": "T4",
      "include_colab_link": true
    },
    "kernelspec": {
      "name": "python3",
      "display_name": "Python 3"
    },
    "accelerator": "GPU"
  },
  "nbformat": 4,
  "nbformat_minor": 0
}